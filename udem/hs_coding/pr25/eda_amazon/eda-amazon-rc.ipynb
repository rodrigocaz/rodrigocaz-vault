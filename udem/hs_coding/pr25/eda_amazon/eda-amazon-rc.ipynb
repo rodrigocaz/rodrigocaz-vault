{
 "cells": [
  {
   "cell_type": "code",
   "execution_count": null,
   "metadata": {},
   "outputs": [],
   "source": [
    "import pandas as pd\n",
    "import matplotlib.pyplot as plt\n",
    "import numpy as np\n",
    "import seaborn as sns"
   ]
  },
  {
   "cell_type": "code",
   "execution_count": null,
   "metadata": {},
   "outputs": [],
   "source": [
    "plt.style.use('seaborn-v0_8-whitegrid')\n",
    "sns.set_palette('Set2')\n"
   ]
  },
  {
   "cell_type": "code",
   "execution_count": null,
   "metadata": {},
   "outputs": [],
   "source": [
    "df = pd.read_csv('amazon.csv')\n",
    "df = df.dropna()\n",
    "print(df.isnull().sum())"
   ]
  },
  {
   "cell_type": "code",
   "execution_count": null,
   "metadata": {},
   "outputs": [],
   "source": [
    "display(df.head())"
   ]
  },
  {
   "cell_type": "code",
   "execution_count": null,
   "metadata": {},
   "outputs": [],
   "source": [
    "print('\\nTipos de datos:')\n",
    "print(df.dtypes)"
   ]
  },
  {
   "cell_type": "code",
   "execution_count": null,
   "metadata": {},
   "outputs": [],
   "source": [
    "from seaborn import categorical\n",
    "\n",
    "\n",
    "numeric_cols = df.select_dtypes(include=[np.number]).columns\n",
    "for col in numeric_cols:\n",
    "    if df[col].isnull().sum() > 0:\n",
    "        df[col] = df[col].fillna(df[col].median())"
   ]
  },
  {
   "cell_type": "code",
   "execution_count": null,
   "metadata": {},
   "outputs": [],
   "source": [
    "df['actual_price'] = df['actual_price'].replace({'₹': '', ',': ''}, regex= True).astype(float)\n",
    "average_dp = df['actual_price'].mean()\n",
    "min_ap = df['actual_price'].min()\n",
    "mid_ap = df['actual_price'].median()\n",
    "max_ap = df['actual_price'].max()\n",
    "range_ap = max_ap - min_ap\n",
    "print(f'Precio Promedio: {average_dp}')\n",
    "print(f'Precio Minimo: {min_ap}')\n",
    "print(f'Precio Mediano: {mid_ap}')\n",
    "print(f'Precio Maximo: {max_ap}')\n",
    "print(f'Rango del Precio: {range_ap}')\n"
   ]
  },
  {
   "cell_type": "code",
   "execution_count": null,
   "metadata": {},
   "outputs": [],
   "source": [
    "df['rating'] = pd.to_numeric(df['rating'], errors='coerce')\n",
    "average_rating = round(df['rating'].mean())\n",
    "min_rating = df['rating'].min()\n",
    "max_rating = df['rating'].max()\n",
    "mid_rating = df['rating'].median()\n",
    "range_rating = max_rating - min_rating\n",
    "print(\"Rating Promedio:\", average_rating)\n",
    "print(\"Rating Minimo:\", min_rating)\n",
    "print(\"Rating Maximo:\", max_rating)\n",
    "print(\"Rating Medio:\", mid_rating)\n",
    "print(\"Rango del Rating:\", range_rating)"
   ]
  },
  {
   "cell_type": "code",
   "execution_count": null,
   "metadata": {},
   "outputs": [],
   "source": [
    "df['discount_percentage'] = df['discount_percentage'].str.replace('%', '').astype(float)\n",
    "average_dp = round(df['discount_percentage'].mean())\n",
    "min_dp = round(df['discount_percentage'].min())\n",
    "max_dp = round(df['discount_percentage'].max())\n",
    "mid_dp = round(df['discount_percentage'].median())\n",
    "range_dp = round(max_dp - min_dp)\n",
    "print(f'Promedio del porcentaje de descuento: {average_dp}%')\n",
    "print(f'Porcentaje de descuento minimo: {min_dp}%')\n",
    "print(f'Porcentaje de descuento maximo: {max_dp}%')\n",
    "print(f'Porcentaje de descuento medio: {mid_dp}%')\n",
    "print(f'Rango del Porcentaje de descuento: {range_dp}%')"
   ]
  },
  {
   "cell_type": "code",
   "execution_count": null,
   "metadata": {},
   "outputs": [],
   "source": [
    "if 'category' in df.columns:\n",
    "        print(\"\\nDistribucion de las categorias de los productos:\")\n",
    "        category_counts = df['category'].value_counts()\n",
    "        print(category_counts)"
   ]
  },
  {
   "cell_type": "code",
   "execution_count": null,
   "metadata": {},
   "outputs": [],
   "source": [
    "top_categories = category_counts.nlargest(5).index\n",
    "print(\"\\nEstadisticas de las mejores 5 categorias:\")\n",
    "for category in top_categories:\n",
    "    subset = df[df['category'] == category]\n",
    "    print(f\"\\nCategoria: {category} (Count: {len(subset)})\")\n",
    "    if 'actual_price' in df.columns:\n",
    "        print(f\"Preciom Promedio: ${subset['actual_price'].mean():.2f}\")\n",
    "    if 'rating' in df.columns:\n",
    "        print(f\"Rating Promedio: {subset['rating'].mean():.2f}\")"
   ]
  },
  {
   "cell_type": "code",
   "execution_count": null,
   "metadata": {},
   "outputs": [],
   "source": [
    "if 'actual_price' in df.columns:\n",
    "    plt.figure(figsize=(10, 6))\n",
    "    plt.hist(df['actual_price'], bins=20, color='skyblue', edgecolor='black')\n",
    "    plt.title('Distribucion del precio')\n",
    "    plt.xlabel('Precio')\n",
    "    plt.ylabel('Frecuencia')\n",
    "    plt.grid(True)\n",
    "    plt.show()"
   ]
  },
  {
   "cell_type": "code",
   "execution_count": null,
   "metadata": {},
   "outputs": [],
   "source": [
    "if 'rating' in df.columns:\n",
    "    plt.figure(figsize=(10, 6))\n",
    "    sns.countplot(x='rating', data=df, palette='coolwarm')\n",
    "    plt.title('Distribucion de los ratings')\n",
    "    plt.xlabel('Rating')\n",
    "    plt.ylabel('Count')\n",
    "    plt.tight_layout()\n",
    "    plt.show()\n",
    "    "
   ]
  },
  {
   "cell_type": "code",
   "execution_count": null,
   "metadata": {},
   "outputs": [],
   "source": [
    "if 'category' in df.columns:\n",
    "        plt.figure(figsize=(12, 8))\n",
    "        top_cats = df['category'].value_counts().nlargest(10)\n",
    "        sns.barplot(y=top_cats.index, x=top_cats.values, palette='coolwarm')\n",
    "        plt.title('Top 10 Cateogrias de los productos')\n",
    "        plt.xlabel('Count')\n",
    "        plt.ylabel('Categoria')\n",
    "        plt.tight_layout()\n",
    "        plt.show()"
   ]
  },
  {
   "cell_type": "code",
   "execution_count": null,
   "metadata": {},
   "outputs": [],
   "source": [
    "if 'actual_price' in df.columns and 'rating' in df.columns:\n",
    "        plt.figure(figsize=(10, 6))\n",
    "        sns.scatterplot(x='actual_price', y='rating', data=df, alpha=0.6)\n",
    "        plt.title('Precio comparado con el Rating')\n",
    "        plt.xlabel('Precio ($)')\n",
    "        plt.ylabel('Rating')\n",
    "        plt.xlim(0, df['actual_price'].quantile(0.95))\n",
    "        plt.tight_layout()\n",
    "        plt.show()"
   ]
  },
  {
   "cell_type": "code",
   "execution_count": null,
   "metadata": {},
   "outputs": [],
   "source": [
    "if 'category' in df.columns and 'actual_price' in df.columns:\n",
    "        top_5_categories = df['category'].value_counts().nlargest(5).index\n",
    "        plt.figure(figsize=(12, 8))\n",
    "        category_subset = df[df['category'].isin(top_5_categories)]\n",
    "        sns.boxplot(y='category', x='actual_price', data=category_subset, palette='coolwarm')\n",
    "        plt.title('Distribucioon de los precios por las top 5 categorias')\n",
    "        plt.xlabel('Precio ($)')\n",
    "        plt.ylabel('Categoria')\n",
    "        plt.xlim(0, category_subset['actual_price'].quantile(0.95))\n",
    "        plt.tight_layout()\n",
    "        plt.show()"
   ]
  },
  {
   "cell_type": "code",
   "execution_count": null,
   "metadata": {},
   "outputs": [],
   "source": [
    "if 'category' in df.columns and 'rating' in df.columns:\n",
    "        top_10_categories = df['category'].value_counts().nlargest(10).index\n",
    "        category_subset = df[df['category'].isin(top_10_categories)]\n",
    "        avg_ratings = category_subset.groupby('category')['rating'].mean().sort_values(ascending=False)\n",
    "        \n",
    "        plt.figure(figsize=(12, 8))\n",
    "        sns.barplot(y=avg_ratings.index, x=avg_ratings.values, palette='coolwarm')\n",
    "        plt.title('Rating Promedio por las top 10 categorias')\n",
    "        plt.xlabel('Rating promedio')\n",
    "        plt.ylabel('Categoria')\n",
    "        plt.xlim(0, 5)\n",
    "        plt.tight_layout()\n",
    "        plt.show()\n"
   ]
  }
 ],
 "metadata": {
  "kernelspec": {
   "display_name": "base",
   "language": "python",
   "name": "python3"
  },
  "language_info": {
   "codemirror_mode": {
    "name": "ipython",
    "version": 3
   },
   "file_extension": ".py",
   "mimetype": "text/x-python",
   "name": "python",
   "nbconvert_exporter": "python",
   "pygments_lexer": "ipython3",
   "version": "3.12.7"
  }
 },
 "nbformat": 4,
 "nbformat_minor": 2
}
