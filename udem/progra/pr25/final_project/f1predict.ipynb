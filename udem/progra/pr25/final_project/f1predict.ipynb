{
 "cells": [
  {
   "cell_type": "code",
   "execution_count": null,
   "id": "b6d4f0a9",
   "metadata": {},
   "outputs": [],
   "source": [
    "import pandas as pd\n",
    "import sqlite3\n",
    "\n",
    "db = sqlite3.connect('f1.db')\n",
    "\n",
    "query = \"\"\"\n",
    "SELECT r.posicion_final AS y,\n",
    "       c.tiempo_q1, c.tiempo_q2, c.tiempo_q3,\n",
    "       p.experiencia_años, p.nacionalidad,\n",
    "       e.nombre AS escuderia,\n",
    "       cir.longitud_km, cir.numero_curvas\n",
    "FROM resultados r\n",
    "JOIN clasificacion c ON r.carrera_id = c.carrera_id AND r.piloto_id = c.piloto_id\n",
    "JOIN pilotos p ON r.piloto_id = p.piloto_id\n",
    "\"\"\"\n"
   ]
  }
 ],
 "metadata": {
  "kernelspec": {
   "display_name": "base",
   "language": "python",
   "name": "python3"
  },
  "language_info": {
   "name": "python",
   "version": "3.12.7"
  }
 },
 "nbformat": 4,
 "nbformat_minor": 5
}
